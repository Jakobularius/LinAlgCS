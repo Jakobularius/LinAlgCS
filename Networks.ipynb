{
 "metadata": {
  "name": ""
 },
 "nbformat": 3,
 "nbformat_minor": 0,
 "worksheets": [
  {
   "cells": [
    {
     "cell_type": "heading",
     "level": 1,
     "metadata": {},
     "source": [
      "Pachetul Python Networkx. Popularitatea nodurilor intr-o retea"
     ]
    },
    {
     "cell_type": "markdown",
     "metadata": {},
     "source": [
      "[Networkx](http://networkx.github.io/) este un pachet Python destinat generarii si analizei structurii si proprietatilor unei retele."
     ]
    },
    {
     "cell_type": "markdown",
     "metadata": {},
     "source": [
      "Importam acest pachet astfel:"
     ]
    },
    {
     "cell_type": "code",
     "collapsed": false,
     "input": [
      "import networkx as nx"
     ],
     "language": "python",
     "metadata": {},
     "outputs": [],
     "prompt_number": 60
    },
    {
     "cell_type": "markdown",
     "metadata": {},
     "source": [
      "O retea este un graf $G=(V, E)$, ce consta  dintr-o multime finita de  noduri,\n",
      "$V=\\{0,1,2,\\ldots, n-1\\}$  si multimea, $E$, a arcelor formata din perechi de noduri. Daca o pereche de noduri $i$ si $j$ definesc un arc, atunci in limbaj de retele se spune ca nodurile $i$ si $j$ sunt  conectate.\n",
      "\n",
      "Grafurile sunt neorientate sau orientate. In cazul grafurilor neorientate nodurile $i,j$\n",
      "conectate printr-un arc nu implica o ordine a conexiunii, de la $i$ spre $j$ sau de la $j$ spre $i$. In grafurile orientate perechea $(i,j)$ este ordonata. Se presupune ca \n",
      "exista conexiune de la $i$ spre $j$, dar daca perechea $(j,i)$ nu apartine lui $E$, atunci nu exista conexiune inversa, de la $j$ la $i$.\n",
      "\n",
      "Unui graf neorientat/orientat  i se asociaza matricea de adiacenta sau conectivitate, $A=(a_{ij})$, $i, j=\\overline{0,n-1}$:\n",
      "$$a_{ij}=\\left\\{\\begin{array}{ll} 1&\\mbox{daca exista conexiune intre nodul i si j/exista conexiune de la i spre j}\\\\\n",
      "                   0& \\mbox{in caz contrar}\\end{array}\\right.$$\n",
      "                   \n",
      " Daca graful este neorientat atunci matricea de adiacenta  este simetrica.\n",
      " \n",
      "                   "
     ]
    },
    {
     "cell_type": "heading",
     "level": 4,
     "metadata": {},
     "source": [
      "Definirea unui graf in `networkx`"
     ]
    },
    {
     "cell_type": "markdown",
     "metadata": {},
     "source": [
      "Linia urmatoare   defineste un graf vid,  G, neorientat (G este un obiect de tip `Graph`):"
     ]
    },
    {
     "cell_type": "code",
     "collapsed": false,
     "input": [
      "G=nx.Graph()"
     ],
     "language": "python",
     "metadata": {},
     "outputs": [],
     "prompt_number": 61
    },
    {
     "cell_type": "markdown",
     "metadata": {},
     "source": [
      "**1.  Constructia grafului pornind de la lista nodurilor si lista muchiilor**"
     ]
    },
    {
     "cell_type": "markdown",
     "metadata": {},
     "source": [
      "Se defineste lista nodurilor, `V`, si lista arcelor, `E`, si apoi se apeleaza  pentru graful `G` metoda\n",
      "`add_nodes_from(V)`, respectiv `add_edges_from(E)`. \n",
      "\n",
      "Se pot adauga noduri/muchii individuale\n",
      "apeland metoda `add_node()`/`add_edge()`:"
     ]
    },
    {
     "cell_type": "code",
     "collapsed": false,
     "input": [
      "n=9\n",
      "V=[i for i in range(n)]#sau V=list(np.arange(n))\n",
      "G.add_nodes_from(V)\n",
      "E=[(0,1), (0,2), (1,3), (1,4), (1,7), (2,5), (2,8), (3, 4), (3,5),(4,6), (4,7), (4,8), (5,7)]\n",
      "G.add_edges_from(E)\n",
      "G.add_edge(6,8)"
     ],
     "language": "python",
     "metadata": {},
     "outputs": [],
     "prompt_number": 62
    },
    {
     "cell_type": "markdown",
     "metadata": {},
     "source": [
      "Dupa ce elementele definitorii au fost setate, urmeaza generarea/trasarea grafului, folosind functia `nx.draw` care se bazeaza pe functii  din `matplotlib`. \n"
     ]
    },
    {
     "cell_type": "code",
     "collapsed": false,
     "input": [
      "%matplotlib inline"
     ],
     "language": "python",
     "metadata": {},
     "outputs": [],
     "prompt_number": 63
    },
    {
     "cell_type": "code",
     "collapsed": false,
     "input": [
      "import matplotlib.pyplot as plt\n",
      "nx.draw(G, node_color='c',edge_color='b')"
     ],
     "language": "python",
     "metadata": {},
     "outputs": [
      {
       "metadata": {},
       "output_type": "display_data",
       "png": "[encoded data removed]",
       "text": [
        "<matplotlib.figure.Figure at 0xa247208>"
       ]
      }
     ],
     "prompt_number": 65
    },
    {
     "cell_type": "markdown",
     "metadata": {},
     "source": [
      "Pozitionarea relativa a nodurilor este realizata conform algoritmului numit *spring layout algorithm*.  Alte metode de pozitionare pot fi setate folosind cuvantul cheie `pos`."
     ]
    },
    {
     "cell_type": "markdown",
     "metadata": {},
     "source": [
      "Extragem matricea de adiacenta a grafului:"
     ]
    },
    {
     "cell_type": "code",
     "collapsed": false,
     "input": [
      "A=nx.adjacency_matrix(G)\n",
      "print type(A)\n",
      "print A"
     ],
     "language": "python",
     "metadata": {},
     "outputs": [
      {
       "output_type": "stream",
       "stream": "stdout",
       "text": [
        "<class 'numpy.matrixlib.defmatrix.matrix'>\n",
        "[[ 0.  1.  1.  0.  0.  0.  0.  0.  0.]\n",
        " [ 1.  0.  0.  1.  1.  0.  0.  1.  0.]\n",
        " [ 1.  0.  0.  0.  0.  1.  0.  0.  1.]\n",
        " [ 0.  1.  0.  0.  1.  1.  0.  0.  0.]\n",
        " [ 0.  1.  0.  1.  0.  0.  1.  1.  1.]\n",
        " [ 0.  0.  1.  1.  0.  0.  0.  1.  0.]\n",
        " [ 0.  0.  0.  0.  1.  0.  0.  0.  1.]\n",
        " [ 0.  1.  0.  0.  1.  1.  0.  0.  0.]\n",
        " [ 0.  0.  1.  0.  1.  0.  1.  0.  0.]]\n"
       ]
      }
     ],
     "prompt_number": 92
    },
    {
     "cell_type": "markdown",
     "metadata": {},
     "source": [
      "Deoarece matricea $A$ nu este este un obiect de tip `numpy.array`, tip  cu care noi lucram, o convertim simplu prin\n",
      "`A=numpy.array(A)`."
     ]
    },
    {
     "cell_type": "code",
     "collapsed": false,
     "input": [
      "import numpy as np\n",
      "A=np.array(A)\n",
      "Lamb,V=np.linalg.eig(A)\n",
      "\n",
      "lamb=np.amax(Lamb)\n",
      "j=np.argmax(Lamb)\n",
      "print j\n",
      "x=V[:,0]\n",
      "print 'Valoarea proprie dominanta este:', lamb\n",
      "print 'Vectorul propriu:\\n', x.round(3)"
     ],
     "language": "python",
     "metadata": {},
     "outputs": [
      {
       "output_type": "stream",
       "stream": "stdout",
       "text": [
        "0\n",
        "Valoarea proprie dominanta este: 3.34433739587\n",
        "Vectorul propriu:\n",
        "[-0.195 -0.424 -0.23  -0.361 -0.499 -0.285 -0.236 -0.361 -0.288]\n"
       ]
      }
     ],
     "prompt_number": 93
    },
    {
     "cell_type": "markdown",
     "metadata": {},
     "source": [
      " Matricea de adiacenta a unui graf neorientat fiind simetrica\n",
      "are toate radacinile polinomului caracteristic reale, deci elementul maxim din array-ul 1D, `Lamb`\n",
      "este valoarea proprie dominanta\n",
      "si este calculat de: `lamb=np.amax(Lamb)`.\n",
      "   \n",
      "Pentru a identifica care coloana din `V` contine vectorul propriu corespunzator, aflam indicele valorii\n",
      "proprii maxime, ca element al array-ului `Lamb`, invocand: `j=np.argmax(Lamb)`."
     ]
    },
    {
     "cell_type": "code",
     "collapsed": false,
     "input": [
      "s=np.sum(x)\n",
      "rating=x/s\n",
      "print 'Vectorul rating al nodurilor\\n', rating.round(3)"
     ],
     "language": "python",
     "metadata": {},
     "outputs": [
      {
       "output_type": "stream",
       "stream": "stdout",
       "text": [
        "Vectorul rating al nodurilor\n",
        "[ 0.068  0.147  0.08   0.125  0.173  0.099  0.082  0.125  0.1  ]\n"
       ]
      }
     ],
     "prompt_number": 94
    },
    {
     "cell_type": "code",
     "collapsed": false,
     "input": [
      "ranking=np.argsort(rating)[::-1]#  Functia np.argsort, sorteaza crescator array-ul 1D, rating,\n",
      "                                # si returneaza indicii elementelor sortate\n",
      "                                # Pentru a gasi ordinea indicilor pentru sortarea descrescatoare \n",
      "                                # se inverseaza elementele array-ului returnat de\n",
      "                                # np.argsort(rating) folosind notatia tipica pt reversing, [::-1]\n",
      "print ranking"
     ],
     "language": "python",
     "metadata": {},
     "outputs": [
      {
       "output_type": "stream",
       "stream": "stdout",
       "text": [
        "[4 1 7 3 8 5 6 2 0]\n"
       ]
      }
     ],
     "prompt_number": 95
    },
    {
     "cell_type": "markdown",
     "metadata": {},
     "source": [
      "Rezulta astfel ca nodul cu cea mai mare popularitate este nodul  4."
     ]
    },
    {
     "cell_type": "markdown",
     "metadata": {},
     "source": [
      "Coeficientul de popularitate este:"
     ]
    },
    {
     "cell_type": "code",
     "collapsed": false,
     "input": [
      "print rating [ranking[0]]"
     ],
     "language": "python",
     "metadata": {},
     "outputs": [
      {
       "output_type": "stream",
       "stream": "stdout",
       "text": [
        "0.173431138148\n"
       ]
      }
     ],
     "prompt_number": 96
    },
    {
     "cell_type": "markdown",
     "metadata": {},
     "source": [
      "Fiecarui nod dintr-o retea i se asociaza gradul, ca fiind numarul de noduri cu care este conectat\n",
      "printr-un arc (drum de lungime 1).\n",
      "\n",
      "Functia `grad=nx.degree(nod)` returneaza gradul unui nod, iar `grad=nx.degree(G)`, gradele tuturor\n",
      "nodurilor retelei. In acest al doilea caz, grad este un dictionar, adica o structura de date in Python\n",
      "ce consta dintr-o multime ordonata de perechi `cheie:valoare`, inserate intre acolade:"
     ]
    },
    {
     "cell_type": "code",
     "collapsed": false,
     "input": [
      "dicti={'grupa1':35, 'grupa2':40, 'grupa3': 43, 'grupa4':45}\n",
      "print dicti\n",
      "print dicti.keys()\n",
      "print 'In grupa 2 sunt', dicti['grupa2'], 'studenti'\n"
     ],
     "language": "python",
     "metadata": {},
     "outputs": [
      {
       "output_type": "stream",
       "stream": "stdout",
       "text": [
        "{'grupa4': 45, 'grupa1': 35, 'grupa3': 43, 'grupa2': 40}\n",
        "['grupa4', 'grupa1', 'grupa3', 'grupa2']\n",
        "In grupa 2 sunt 40 studenti\n"
       ]
      }
     ],
     "prompt_number": 74
    },
    {
     "cell_type": "code",
     "collapsed": false,
     "input": [
      "grad=nx.degree(G)\n",
      "print grad\n",
      "for nod in G.nodes():\n",
      "    print grad[nod]\n",
      "    "
     ],
     "language": "python",
     "metadata": {},
     "outputs": [
      {
       "output_type": "stream",
       "stream": "stdout",
       "text": [
        "{0: 2, 1: 4, 2: 3, 3: 3, 4: 5, 5: 3, 6: 2, 7: 3, 8: 3}\n",
        "2\n",
        "4\n",
        "3\n",
        "3\n",
        "5\n",
        "3\n",
        "2\n",
        "3\n",
        "3\n"
       ]
      }
     ],
     "prompt_number": 75
    },
    {
     "cell_type": "markdown",
     "metadata": {},
     "source": [
      "Remarcam ca nodul 4 care are cel mai mare coeficient de popularitate are si cel mai mare\n",
      "grad (este \"cel mai conectat\" nod din retea)."
     ]
    },
    {
     "cell_type": "heading",
     "level": 4,
     "metadata": {},
     "source": [
      "**2.** Constructia grafului neorientat pornind de la matricea sa de adiacenta."
     ]
    },
    {
     "cell_type": "markdown",
     "metadata": {},
     "source": [
      "Daca se da matricea de adiacenta, $A$,  a unui graf atunci graful este creat de functia:\n",
      "`G= nx.from_numpy_matrix(A)`:"
     ]
    },
    {
     "cell_type": "code",
     "collapsed": false,
     "input": [
      "Ad=np.array([[0,1,1,1,0,0,0,1],\n",
      "             [1,0,1,0,1,1,1,0],\n",
      "             [1,1,0,0,0,0,1,1],\n",
      "             [1,0,0,0,1,1,1,1],\n",
      "             [0,1,0,1,0,1,1,0],\n",
      "             [0,1,0,1,1,0,1,0],\n",
      "             [0,1,1,1,1,1,0,1],\n",
      "             [1,0,1,1,0,0,1,0]], float)\n",
      "Gr=nx.from_numpy_matrix(Ad)\n",
      "print 'Nodurile grafului sunt:\\n', Gr.nodes()\n",
      "print 'Lista arcelor:\\n', Gr.edges()\n",
      "nx.draw(Gr, node_color='g', alpha=0.5)# alpha este parametrul de transparenta a culorii nodurilor"
     ],
     "language": "python",
     "metadata": {},
     "outputs": [
      {
       "output_type": "stream",
       "stream": "stdout",
       "text": [
        "Nodurile grafului sunt:\n",
        "[0, 1, 2, 3, 4, 5, 6, 7]\n",
        "Lista arcelor:\n",
        "[(0, 1), (0, 2), (0, 3), (0, 7), (1, 2), (1, 4), (1, 5), (1, 6), (2, 6), (2, 7), (3, 4), (3, 5), (3, 6), (3, 7), (4, 5), (4, 6), (5, 6), (6, 7)]\n"
       ]
      },
      {
       "metadata": {},
       "output_type": "display_data",
       "png": "[encoded data removed]",
       "text": [
        "<matplotlib.figure.Figure at 0x8a37198>"
       ]
      }
     ],
     "prompt_number": 77
    },
    {
     "cell_type": "heading",
     "level": 4,
     "metadata": {},
     "source": [
      "Popularitatea nodurilor unei retele orientate"
     ]
    },
    {
     "cell_type": "markdown",
     "metadata": {},
     "source": [
      "Constructia unei retele (graf) orientat se realizeaza la fel ca in cazul celor neorientate,\n",
      "doar ca obiectul nu mai este declarat de tip `Graph`, ci `DiGraph`.\n"
     ]
    },
    {
     "cell_type": "code",
     "collapsed": false,
     "input": [
      "H=nx.DiGraph()\n",
      "n=5\n",
      "Noduri=list(np.arange(n))\n",
      "Arce=[(0,3), (0,4), (1,2),(1,3), (1,4), (2,3), (4,1), (4,3)]\n",
      "H.add_nodes_from(Noduri)\n",
      "H.add_edges_from(Arce)\n",
      "nx.draw(H, node_color='r', alpha=0.5)\n"
     ],
     "language": "python",
     "metadata": {},
     "outputs": [
      {
       "metadata": {},
       "output_type": "display_data",
       "png": "[encoded data removed]",
       "text": [
        "<matplotlib.figure.Figure at 0x8a3f208>"
       ]
      }
     ],
     "prompt_number": 82
    },
    {
     "cell_type": "markdown",
     "metadata": {},
     "source": [
      "Sa construim o retea orientata din matricea sa adiacenta si sa determinam popularitatea nodurilor:"
     ]
    },
    {
     "cell_type": "code",
     "collapsed": false,
     "input": [
      "W=np.array([[0,1,1,1,0,0,0,0],[0,0,1,0,1,1,1,0],[0,0,0,0,0,0,0,1],[0,0,0,0,1,1,0,0],\n",
      "            [0,0,0,0,0,0,1,0], [0,0,0,0,1,0,1,0],[0,1,1,1,0,0,0,1], [1,0,0,1,0,0,0,0]], float)\n",
      "GW=nx.from_numpy_matrix(W, create_using=nx.DiGraph())\n",
      "print 'Nodurile grafului sunt:\\n', GW.nodes()\n",
      "print 'Lista arcelor:\\n', GW.edges()\n",
      "nx.draw(GW, node_color='g', alpha=0.5)"
     ],
     "language": "python",
     "metadata": {},
     "outputs": [
      {
       "output_type": "stream",
       "stream": "stdout",
       "text": [
        "Nodurile grafului sunt:\n",
        "[0, 1, 2, 3, 4, 5, 6, 7]\n",
        "Lista arcelor:\n",
        "[(0, 1), (0, 2), (0, 3), (1, 2), (1, 4), (1, 5), (1, 6), (2, 7), (3, 4), (3, 5), (4, 6), (5, 4), (5, 6), (6, 1), (6, 2), (6, 3), (6, 7), (7, 0), (7, 3)]\n"
       ]
      },
      {
       "metadata": {},
       "output_type": "display_data",
       "png": "[encoded data removed]",
       "text": [
        "<matplotlib.figure.Figure at 0x8cf5780>"
       ]
      }
     ],
     "prompt_number": 86
    },
    {
     "cell_type": "code",
     "collapsed": false,
     "input": [
      "Lamb, V=np.linalg.eig(W.transpose()) # aflam radacinile polinomului caracteristic a matricii W^T\n",
      "print Lamb.round(3)"
     ],
     "language": "python",
     "metadata": {},
     "outputs": [
      {
       "output_type": "stream",
       "stream": "stdout",
       "text": [
        "[ 2.272+0.j    -0.711+1.077j -0.711-1.077j  0.079+1.108j  0.079-1.108j\n",
        "  0.000+0.j    -0.303+0.j    -0.705+0.j   ]\n"
       ]
      }
     ],
     "prompt_number": 87
    },
    {
     "cell_type": "markdown",
     "metadata": {},
     "source": [
      "Matricea de adiacenta nefiind simetrica, polinomul sau caracteristic poate avea si radacini complex conjugate. Radacinile reale sunt afisate\n",
      "si ele in forma complexa, $a=a+ 0.j$ (in Python numarul complex $i=\\sqrt{-1}$ este notat $j$, ca in electronica)."
     ]
    },
    {
     "cell_type": "markdown",
     "metadata": {},
     "source": [
      "Determinam acum valoarea proprie dominanta, adica radacina reala, pozitiva,   care domina valorile absolute ale celorlalte, $\\lambda_d\\leq|Lamb[i]|$, $\\forall\\: i$:"
     ]
    },
    {
     "cell_type": "code",
     "collapsed": false,
     "input": [
      "absLamb=np.abs(Lamb)\n",
      "print 'valorile absolute ale radacinilor sunt:\\n', absLamb.round(3)\n",
      "lamD=np.amax(np.abs(Lamb))\n",
      "if np.isreal(lamD):\n",
      "   print 'valoarea proprie dominanta:', lamD\n",
      "   j=np.argmax(absLamb)\n",
      "   x=V[:,j]\n",
      "   s=np.sum(x)\n",
      "   rating=x/s\n",
      "   print 'Vectorul rating:\\n', np.real(rating.round(3))# fortam sa afiseze coordonatele fara 0.j\n",
      "   ranking=np.argsort(rating)[::-1]\n",
      "   print 'Nodurile in ordinea descrescatoare a popularitatii lor:\\n', ranking \n",
      "   print 'Nodul cel mai important este:', ranking[0] \n",
      "else:\n",
      "   print 'Analizati cu atentie valorile proprii :)'    "
     ],
     "language": "python",
     "metadata": {},
     "outputs": [
      {
       "output_type": "stream",
       "stream": "stdout",
       "text": [
        "valorile absolute ale radacinilor sunt:\n",
        "[ 2.272  1.291  1.291  1.111  1.111  0.     0.303  0.705]\n",
        "valoarea proprie dominanta: 2.27227147357\n",
        "Vectorul rating:\n",
        "[ 0.057  0.095  0.137  0.153  0.157  0.109  0.159  0.131]\n",
        "Nodurile in ordinea descrescatoare a popularitatii lor:\n",
        "[6 4 3 2 7 5 1 0]\n",
        "Nodul cel mai important este: 6\n"
       ]
      }
     ],
     "prompt_number": 89
    },
    {
     "cell_type": "markdown",
     "metadata": {},
     "source": [
      "E. Petrisor, Univ Politehnica Timisoara"
     ]
    },
    {
     "cell_type": "code",
     "collapsed": false,
     "input": [
      "from IPython.core.display import HTML\n",
      "def  css_styling():\n",
      "    styles = open(\"./styles/custom.css\", \"r\").read()\n",
      "    return HTML(styles)\n",
      "css_styling()"
     ],
     "language": "python",
     "metadata": {},
     "outputs": [
      {
       "html": [
        "<style>\n",
        "    @font-face {\n",
        "        font-family: \"Computer Modern\";\n",
        "        src: url('http://mirrors.ctan.org/fonts/cm-unicode/fonts/otf/cmunss.otf');\n",
        "    }\n",
        "    div.cell{\n",
        "        width:800px;\n",
        "        margin-left:16% !important;\n",
        "        margin-right:auto;\n",
        "    }\n",
        "    h1 {\n",
        "        font-family: Helvetica, serif;\n",
        "    }\n",
        "    h4{\n",
        "        margin-top:12px;\n",
        "        margin-bottom: 3px;\n",
        "       }\n",
        "    div.text_cell_render{\n",
        "        font-family: Computer Modern, \"Helvetica Neue\", Arial, Helvetica, Geneva, sans-serif;\n",
        "        line-height: 145%;\n",
        "        font-size: 130%;\n",
        "        width:800px;\n",
        "        margin-left:auto;\n",
        "        margin-right:auto;\n",
        "    }\n",
        "    .CodeMirror{\n",
        "            font-family: \"Source Code Pro\", source-code-pro,Consolas, monospace;\n",
        "    }\n",
        "    .prompt{\n",
        "        display: None;\n",
        "    }\n",
        "    .text_cell_render h5 {\n",
        "        font-weight: 300;\n",
        "        font-size: 22pt;\n",
        "        color: #4057A1;\n",
        "        font-style: italic;\n",
        "        margin-bottom: .5em;\n",
        "        margin-top: 0.5em;\n",
        "        display: block;\n",
        "    }\n",
        "    \n",
        "    .warning{\n",
        "        color: rgb( 240, 20, 20 )\n",
        "        }  \n",
        "</style>\n",
        "<script>\n",
        "    MathJax.Hub.Config({\n",
        "                        TeX: {\n",
        "                           extensions: [\"AMSmath.js\"]\n",
        "                           },\n",
        "                tex2jax: {\n",
        "                    inlineMath: [ ['$','$'], [\"\\\\(\",\"\\\\)\"] ],\n",
        "                    displayMath: [ ['$$','$$'], [\"\\\\[\",\"\\\\]\"] ]\n",
        "                },\n",
        "                displayAlign: 'center', // Change this to 'center' to center equations.\n",
        "                \"HTML-CSS\": {\n",
        "                    styles: {'.MathJax_Display': {\"margin\": 4}}\n",
        "                }\n",
        "        });\n",
        "</script>\n"
       ],
       "metadata": {},
       "output_type": "pyout",
       "prompt_number": 1,
       "text": [
        "<IPython.core.display.HTML at 0x5f3fbe0>"
       ]
      }
     ],
     "prompt_number": 1
    },
    {
     "cell_type": "code",
     "collapsed": false,
     "input": [],
     "language": "python",
     "metadata": {},
     "outputs": []
    }
   ],
   "metadata": {}
  }
 ]
}