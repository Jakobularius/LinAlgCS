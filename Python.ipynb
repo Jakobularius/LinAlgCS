{
 "metadata": {
  "name": ""
 },
 "nbformat": 3,
 "nbformat_minor": 0,
 "worksheets": [
  {
   "cells": [
    {
     "cell_type": "heading",
     "level": 1,
     "metadata": {},
     "source": [
      "Python"
     ]
    },
    {
     "cell_type": "markdown",
     "metadata": {},
     "source": [
      "- Python este un limbaj interpretat. Interpretorul citeste linie dupa line din program si  semnaleaza codul care nu are sens pe masura ce il ruleaza.\n",
      "\n",
      "- Python este caracterizat ca fiind *dynamically typed*. Ce inseamna aceasta caracteristica?\n",
      "\n",
      "-  Comparativ cu limbajul `C` in care  se declara tipul variabilelor, al parametrilor unei functii\n",
      "sau tipul de date returnat de o functie, \n",
      "in Python nu se fac declaratii de tip, ci se identifica tipul datelor in timpul rularii.\n"
     ]
    },
    {
     "cell_type": "heading",
     "level": 4,
     "metadata": {},
     "source": [
      "Tipuri de date in Python"
     ]
    },
    {
     "cell_type": "markdown",
     "metadata": {},
     "source": [
      "- Tipurile de date numerice in Python sunt `int, long, float, complex`. Mai exista si tipul `boolean` ca subtip al intregilor."
     ]
    },
    {
     "cell_type": "markdown",
     "metadata": {},
     "source": [
      "-  Tipul `int` este implementat ca tipul `long` in `C`, adica pe 32 de biti. Tipul `long` din Python are precizie nelimitata,\n",
      "iar `float` este implementat ca `double` in `C`. Tipul `complex` il vom studia semestrul 2 in detaliu, in conexiune cu studiul semnalelor analogice si discrete."
     ]
    },
    {
     "cell_type": "markdown",
     "metadata": {},
     "source": [
      "Sa exemplificam ce se afiseaza apeland `type(data)`:"
     ]
    },
    {
     "cell_type": "code",
     "collapsed": false,
     "input": [
      "n=2\n",
      "print type(n)"
     ],
     "language": "python",
     "metadata": {},
     "outputs": [
      {
       "output_type": "stream",
       "stream": "stdout",
       "text": [
        "<type 'int'>\n"
       ]
      }
     ],
     "prompt_number": 29
    },
    {
     "cell_type": "code",
     "collapsed": false,
     "input": [
      "x=23.75\n",
      "type(x)"
     ],
     "language": "python",
     "metadata": {},
     "outputs": [
      {
       "metadata": {},
       "output_type": "pyout",
       "prompt_number": 30,
       "text": [
        "float"
       ]
      }
     ],
     "prompt_number": 30
    },
    {
     "cell_type": "code",
     "collapsed": false,
     "input": [
      "b=False\n",
      "c=True\n",
      "print b\n",
      "type(c)"
     ],
     "language": "python",
     "metadata": {},
     "outputs": [
      {
       "output_type": "stream",
       "stream": "stdout",
       "text": [
        "False\n"
       ]
      },
      {
       "metadata": {},
       "output_type": "pyout",
       "prompt_number": 31,
       "text": [
        "bool"
       ]
      }
     ],
     "prompt_number": 31
    },
    {
     "cell_type": "markdown",
     "metadata": {},
     "source": [
      "- In Python exista si  tipul de date sir. Relevante pentru abordarile noastre sunt string-urile, listele si tuple-urile."
     ]
    },
    {
     "cell_type": "code",
     "collapsed": false,
     "input": [
      "s='acesta un string'\n",
      "type(s)"
     ],
     "language": "python",
     "metadata": {},
     "outputs": [
      {
       "metadata": {},
       "output_type": "pyout",
       "prompt_number": 32,
       "text": [
        "str"
       ]
      }
     ],
     "prompt_number": 32
    },
    {
     "cell_type": "code",
     "collapsed": false,
     "input": [
      "ss=\"si acesta este un string\"\n",
      "type(ss)"
     ],
     "language": "python",
     "metadata": {},
     "outputs": [
      {
       "metadata": {},
       "output_type": "pyout",
       "prompt_number": 33,
       "text": [
        "str"
       ]
      }
     ],
     "prompt_number": 33
    },
    {
     "cell_type": "code",
     "collapsed": false,
     "input": [
      "L=len(ss)\n",
      "\n",
      "print 'Lungimea stringului ss este ', L"
     ],
     "language": "python",
     "metadata": {},
     "outputs": [
      {
       "output_type": "stream",
       "stream": "stdout",
       "text": [
        "Lungimea stringului ss este  24\n"
       ]
      }
     ],
     "prompt_number": 34
    },
    {
     "cell_type": "markdown",
     "metadata": {},
     "source": [
      "Caracterul din pozitia i, `i=0,1,2, ..., len(string)-1` se acceseaza ca `ss[i]`:"
     ]
    },
    {
     "cell_type": "code",
     "collapsed": false,
     "input": [
      "print ss[12]"
     ],
     "language": "python",
     "metadata": {},
     "outputs": [
      {
       "output_type": "stream",
       "stream": "stdout",
       "text": [
        "t\n"
       ]
      }
     ],
     "prompt_number": 35
    },
    {
     "cell_type": "markdown",
     "metadata": {},
     "source": [
      "Un element al unui string nu poate fi modificat:"
     ]
    },
    {
     "cell_type": "code",
     "collapsed": false,
     "input": [
      "ss[1]='u'"
     ],
     "language": "python",
     "metadata": {},
     "outputs": [
      {
       "ename": "TypeError",
       "evalue": "'str' object does not support item assignment",
       "output_type": "pyerr",
       "traceback": [
        "\u001b[1;31m---------------------------------------------------------------------------\u001b[0m\n\u001b[1;31mTypeError\u001b[0m                                 Traceback (most recent call last)",
        "\u001b[1;32m<ipython-input-36-46468ec3f542>\u001b[0m in \u001b[0;36m<module>\u001b[1;34m()\u001b[0m\n\u001b[1;32m----> 1\u001b[1;33m \u001b[0mss\u001b[0m\u001b[1;33m[\u001b[0m\u001b[1;36m1\u001b[0m\u001b[1;33m]\u001b[0m\u001b[1;33m=\u001b[0m\u001b[1;34m'u'\u001b[0m\u001b[1;33m\u001b[0m\u001b[0m\n\u001b[0m",
        "\u001b[1;31mTypeError\u001b[0m: 'str' object does not support item assignment"
       ]
      }
     ],
     "prompt_number": 36
    },
    {
     "cell_type": "markdown",
     "metadata": {},
     "source": [
      "- O lista in Python este o colectie de date de acelasi tip sau date de tipuri diverse. Colectia de\n",
      "date (elemente ale listei) se insereaza intre paranteze drepte `[`, `]`, iar doua elemente  succesive se separa prin virgula:"
     ]
    },
    {
     "cell_type": "code",
     "collapsed": false,
     "input": [
      "Lista=[2,4,6,8]\n",
      "lung=len(Lista)\n",
      "\n",
      "print lung, Lista[3]"
     ],
     "language": "python",
     "metadata": {},
     "outputs": [
      {
       "output_type": "stream",
       "stream": "stdout",
       "text": [
        "4 8\n"
       ]
      }
     ],
     "prompt_number": 37
    },
    {
     "cell_type": "code",
     "collapsed": false,
     "input": [
      "LL=[3, 'w', \"text\", 3.14]\n",
      "print type(LL)\n",
      "print LL[2]"
     ],
     "language": "python",
     "metadata": {},
     "outputs": [
      {
       "output_type": "stream",
       "stream": "stdout",
       "text": [
        "<type 'list'>\n",
        "text\n"
       ]
      }
     ],
     "prompt_number": 38
    },
    {
     "cell_type": "markdown",
     "metadata": {},
     "source": [
      "Elementele unei liste pot fi alte liste:"
     ]
    },
    {
     "cell_type": "code",
     "collapsed": false,
     "input": [
      "Li=[[2,3,5], [1,6,8], [9,1]]\n",
      "print Li[1]\n",
      "\n",
      "Li[1]='inserez string'\n",
      "print Li"
     ],
     "language": "python",
     "metadata": {},
     "outputs": [
      {
       "output_type": "stream",
       "stream": "stdout",
       "text": [
        "[1, 6, 8]\n",
        "[[2, 3, 5], 'inserez string', [9, 1]]\n"
       ]
      }
     ],
     "prompt_number": 39
    },
    {
     "cell_type": "markdown",
     "metadata": {},
     "source": [
      "Se poate defini si o lista vida:\n",
      "`L=[]`"
     ]
    },
    {
     "cell_type": "markdown",
     "metadata": {},
     "source": [
      "Atat unei liste vide cat si unei liste cu cel putin un element i se pot adauga elemente\n",
      "astfel: `NumeLista.append(element)`"
     ]
    },
    {
     "cell_type": "code",
     "collapsed": false,
     "input": [
      "L=[]\n",
      "L.append(5)\n",
      "L.append('hei')\n",
      "print L\n",
      "L.append('c')\n",
      "print L"
     ],
     "language": "python",
     "metadata": {},
     "outputs": [
      {
       "output_type": "stream",
       "stream": "stdout",
       "text": [
        "[5, 'hei']\n",
        "[5, 'hei', 'c']\n"
       ]
      }
     ],
     "prompt_number": 40
    },
    {
     "cell_type": "markdown",
     "metadata": {},
     "source": [
      "- Tipul de date `tuple` este echivalentul n-uplului definit la Algebra, adica este un set ordonat de n elemente, n>=1. Elementele unui tuple se separa prin virgula si sunt inserate intre doua paranteze rotunde: `t=(3,4,2)`\n"
     ]
    },
    {
     "cell_type": "code",
     "collapsed": false,
     "input": [
      "tu=(2,)\n",
      "tup=(3,5)\n",
      "print tu, tup\n",
      "print tup[0], tup[1]"
     ],
     "language": "python",
     "metadata": {},
     "outputs": [
      {
       "output_type": "stream",
       "stream": "stdout",
       "text": [
        "(2,) (3, 5)\n",
        "3 5\n"
       ]
      }
     ],
     "prompt_number": 41
    },
    {
     "cell_type": "markdown",
     "metadata": {},
     "source": [
      "Un `tuple` cu un singur element se specifica indicand intre paranteze rotunde elementul, urmat de virgula (vezi\n",
      "                                                                                         tuple-ul `tu` de mai sus)."
     ]
    },
    {
     "cell_type": "markdown",
     "metadata": {},
     "source": [
      "Un `tuple`, la fel ca un `string`, este invariabil (*immutable* in l engleza), adica elementele sale nu pot fi actualizate:"
     ]
    },
    {
     "cell_type": "code",
     "collapsed": false,
     "input": [
      "t=(5,2,7)\n",
      "t[2]=4"
     ],
     "language": "python",
     "metadata": {},
     "outputs": [
      {
       "ename": "TypeError",
       "evalue": "'tuple' object does not support item assignment",
       "output_type": "pyerr",
       "traceback": [
        "\u001b[1;31m---------------------------------------------------------------------------\u001b[0m\n\u001b[1;31mTypeError\u001b[0m                                 Traceback (most recent call last)",
        "\u001b[1;32m<ipython-input-42-5b914efccfb1>\u001b[0m in \u001b[0;36m<module>\u001b[1;34m()\u001b[0m\n\u001b[0;32m      1\u001b[0m \u001b[0mt\u001b[0m\u001b[1;33m=\u001b[0m\u001b[1;33m(\u001b[0m\u001b[1;36m5\u001b[0m\u001b[1;33m,\u001b[0m\u001b[1;36m2\u001b[0m\u001b[1;33m,\u001b[0m\u001b[1;36m7\u001b[0m\u001b[1;33m)\u001b[0m\u001b[1;33m\u001b[0m\u001b[0m\n\u001b[1;32m----> 2\u001b[1;33m \u001b[0mt\u001b[0m\u001b[1;33m[\u001b[0m\u001b[1;36m2\u001b[0m\u001b[1;33m]\u001b[0m\u001b[1;33m=\u001b[0m\u001b[1;36m4\u001b[0m\u001b[1;33m\u001b[0m\u001b[0m\n\u001b[0m",
        "\u001b[1;31mTypeError\u001b[0m: 'tuple' object does not support item assignment"
       ]
      }
     ],
     "prompt_number": 42
    },
    {
     "cell_type": "markdown",
     "metadata": {},
     "source": [
      "In problemele de Algebra liniara vom folosi un tuple de  1 sau 2 elemente pentru a declara dimensiunile unui `array`."
     ]
    },
    {
     "cell_type": "markdown",
     "metadata": {},
     "source": [
      "Se poate defini si o lista de `tuples`:"
     ]
    },
    {
     "cell_type": "code",
     "collapsed": false,
     "input": [
      "L=[(2,5), (1,2,7), (8,)]\n",
      "print L[2]\n",
      "print len(L[1]), len(L[2]), "
     ],
     "language": "python",
     "metadata": {},
     "outputs": [
      {
       "output_type": "stream",
       "stream": "stdout",
       "text": [
        "(8,)\n",
        "3 1\n"
       ]
      }
     ],
     "prompt_number": 43
    },
    {
     "cell_type": "markdown",
     "metadata": {},
     "source": [
      "Elementele unui tuple nu trebuie sa fie obligatoriu de tip numeric. De exemplu putem defini:"
     ]
    },
    {
     "cell_type": "code",
     "collapsed": false,
     "input": [
      "t=(5, 'nota de salvare', 10, 'nota de excelenta')\n",
      "print t\n",
      "print t[0:2:4]"
     ],
     "language": "python",
     "metadata": {},
     "outputs": [
      {
       "output_type": "stream",
       "stream": "stdout",
       "text": [
        "(5, 'nota de salvare', 10, 'nota de excelenta')\n",
        "(5,)\n"
       ]
      }
     ],
     "prompt_number": 44
    },
    {
     "cell_type": "markdown",
     "metadata": {},
     "source": [
      "Operatii cu tuple-uri:"
     ]
    },
    {
     "cell_type": "code",
     "collapsed": false,
     "input": [
      "t=(2,3,5)\n",
      "s=(6,7,0)\n",
      "print t+s"
     ],
     "language": "python",
     "metadata": {},
     "outputs": [
      {
       "output_type": "stream",
       "stream": "stdout",
       "text": [
        "(2, 3, 5, 6, 7, 0)\n"
       ]
      }
     ],
     "prompt_number": 45
    },
    {
     "cell_type": "markdown",
     "metadata": {},
     "source": [
      "Observam ca suma a doua tuple-uri are ca efect  concatenarea lor."
     ]
    },
    {
     "cell_type": "markdown",
     "metadata": {},
     "source": [
      "In concluzie: elementele unui string sunt doar caractere, in timp ce elementele unei liste sau tuple pot avea orice tip."
     ]
    },
    {
     "cell_type": "heading",
     "level": 4,
     "metadata": {},
     "source": [
      "Slicing in Python"
     ]
    },
    {
     "cell_type": "markdown",
     "metadata": {},
     "source": [
      "Stringurile, listele si tuple-urile pot fi sectionate (feliate) si se pot apela/afisa doar o parte din ele.\n",
      "O asemenea operatie se numeste *slicing*."
     ]
    },
    {
     "cell_type": "markdown",
     "metadata": {},
     "source": [
      "Daca `S` este string, lista sau tuple de lungime, `len(S)`, egala cu N, atunci urmatoarele notatii de slicing semnifica:"
     ]
    },
    {
     "cell_type": "markdown",
     "metadata": {},
     "source": [
      "\n",
      "`S[i:]`, subsirul de elementele `S[i], ..., S[N-1]`\n",
      "\n",
      "`S[:i]`, subsirul de elemente `S[0], ..., S[i-1]`\n",
      "\n",
      "`S[i:j]`, subsirul de elemente `S[i],..., S[j-1]`\n",
      "\n",
      "`S[i:j:p]`, subsirul de elemente ale lui `S` incepand cu `S[i]` si parcurs cu pasul `p>1` pana la elementul din\n",
      "          pozitia maxima `i+k*p<j`, \n",
      "          \n",
      "          "
     ]
    },
    {
     "cell_type": "code",
     "collapsed": false,
     "input": [
      "S='Python pune la dispozitie operatii speciale'\n",
      "L=len(S)\n",
      "print L\n",
      "print S[15:]\n",
      "print S[:15]\n",
      "print S[15:20]\n",
      "print S[1:18:2]"
     ],
     "language": "python",
     "metadata": {},
     "outputs": [
      {
       "output_type": "stream",
       "stream": "stdout",
       "text": [
        "43\n",
        "dispozitie operatii speciale\n",
        "Python pune la \n",
        "dispo\n",
        "yhnpn ads\n"
       ]
      }
     ],
     "prompt_number": 46
    },
    {
     "cell_type": "code",
     "collapsed": false,
     "input": [
      "t=(2,4,6,8)\n",
      "ta=t[:2]\n",
      "tb=t[1:]\n",
      "print ta, tb"
     ],
     "language": "python",
     "metadata": {},
     "outputs": [
      {
       "output_type": "stream",
       "stream": "stdout",
       "text": [
        "(2, 4) (4, 6, 8)\n"
       ]
      }
     ],
     "prompt_number": 47
    },
    {
     "cell_type": "heading",
     "level": 4,
     "metadata": {},
     "source": [
      "Indentarea in Python"
     ]
    },
    {
     "cell_type": "markdown",
     "metadata": {},
     "source": [
      "Spre deosebire de limbajul `C`, in care delimitarea blocurilor de program se realizeaza incluzand blocul respectiv intre  acolade `{`, `}`, in Python se foloseste *indentarea*, adica\n",
      "liniile unui bloc incep din aceeasi coloana (se lasa acelasi numar de blank-uri pana la primul caracter al liniilor)."
     ]
    },
    {
     "cell_type": "markdown",
     "metadata": {},
     "source": [
      "Regula de *indentare*  este urmatoarea:\n",
      "liniile de cod neincluse intr-o bucla `for`,  intr-o secventa `if-else` sau `while`  sau inca in corpul unei functii, incep de obicei din pozitia initiala a liniei."
     ]
    },
    {
     "cell_type": "code",
     "collapsed": false,
     "input": [
      "x=2\n",
      "y=x+ int(2.3)\n",
      "print y"
     ],
     "language": "python",
     "metadata": {},
     "outputs": [
      {
       "output_type": "stream",
       "stream": "stdout",
       "text": [
        "4\n"
       ]
      }
     ],
     "prompt_number": 48
    },
    {
     "cell_type": "code",
     "collapsed": false,
     "input": [
      "x=5\n",
      "  n=7\n",
      "  print x, n  "
     ],
     "language": "python",
     "metadata": {},
     "outputs": [
      {
       "ename": "IndentationError",
       "evalue": "unexpected indent (<ipython-input-49-4197e8957835>, line 2)",
       "output_type": "pyerr",
       "traceback": [
        "\u001b[1;36m  File \u001b[1;32m\"<ipython-input-49-4197e8957835>\"\u001b[1;36m, line \u001b[1;32m2\u001b[0m\n\u001b[1;33m    n=7\u001b[0m\n\u001b[1;37m    ^\u001b[0m\n\u001b[1;31mIndentationError\u001b[0m\u001b[1;31m:\u001b[0m unexpected indent\n"
       ]
      }
     ],
     "prompt_number": 49
    },
    {
     "cell_type": "markdown",
     "metadata": {},
     "source": [
      "In Python sfarsitul unei linii de cod nu se marcheaza uzual cu punct si virgula, dar daca inseram `;` interpretorul il ignora."
     ]
    },
    {
     "cell_type": "heading",
     "level": 4,
     "metadata": {},
     "source": [
      "Bucla for"
     ]
    },
    {
     "cell_type": "code",
     "collapsed": false,
     "input": [
      "n=5\n",
      "x=[]\n",
      "\n",
      "for i in range(n):\n",
      "    x.append(2*i)\n",
      "    x.append('impar?')\n",
      "print  x  "
     ],
     "language": "python",
     "metadata": {},
     "outputs": [
      {
       "output_type": "stream",
       "stream": "stdout",
       "text": [
        "[0, 'impar?', 2, 'impar?', 4, 'impar?', 6, 'impar?', 8, 'impar?']\n"
       ]
      }
     ],
     "prompt_number": 50
    },
    {
     "cell_type": "markdown",
     "metadata": {},
     "source": [
      "\n",
      "- linia unui `for`  se termina obligatoriu cu doua puncte.\n",
      "\n",
      "- `for i in range(n)` este echivalentul\n",
      "lui `for(i=0;i<n;i++)` din `C/C++`.\n",
      "\n",
      "- blocul din  bucla `for` este indentat; "
     ]
    },
    {
     "cell_type": "heading",
     "level": 4,
     "metadata": {},
     "source": [
      "Sintaxa instructiunii if-else"
     ]
    },
    {
     "cell_type": "code",
     "collapsed": false,
     "input": [
      "n=5\n",
      "if n==2:\n",
      "   print 'n este egal cu 2'\n",
      "else:\n",
      "   print 'n este diferit de 2'\n"
     ],
     "language": "python",
     "metadata": {},
     "outputs": [
      {
       "output_type": "stream",
       "stream": "stdout",
       "text": [
        "n este diferit de 2\n"
       ]
      }
     ],
     "prompt_number": 51
    },
    {
     "cell_type": "markdown",
     "metadata": {},
     "source": [
      "Remarcam ca se scrie  \n",
      "`if conditie:`\n",
      "\n",
      "`else:` \n",
      "\n",
      "si ca blocurile aferente sunt identic indentate!!!"
     ]
    },
    {
     "cell_type": "heading",
     "level": 4,
     "metadata": {},
     "source": [
      "Operatorii relationali din Python  sunt: `<`, `<=`, `>`, `>=`, `==`, `!=`"
     ]
    },
    {
     "cell_type": "markdown",
     "metadata": {},
     "source": [
      "Acesti operatori  au aceasi semnificatie ca in `C`. Ei se folosesc in problemele de Algebra liniara pentru a compara scalari si array-uri.   O comparatie returneaza `True` sau `False`."
     ]
    },
    {
     "cell_type": "code",
     "collapsed": false,
     "input": [
      "x=2\n",
      "y=5.73\n",
      "z=x>=y\n",
      "print z"
     ],
     "language": "python",
     "metadata": {},
     "outputs": [
      {
       "output_type": "stream",
       "stream": "stdout",
       "text": [
        "False\n"
       ]
      }
     ],
     "prompt_number": 52
    },
    {
     "cell_type": "heading",
     "level": 4,
     "metadata": {},
     "source": [
      "\n",
      "Operatorii logici in Python sunt `and`, `or` si `not`:"
     ]
    },
    {
     "cell_type": "code",
     "collapsed": false,
     "input": [
      "a=2\n",
      "b=0\n",
      "\n",
      "if a<b and a>0:\n",
      "    print 'primul caz'\n",
      "else:\n",
      "    if a>=b or a<0:\n",
      "        print 'al doilea caz'\n",
      "    else:    \n",
      "        print 'al treielea caz'    \n",
      "        "
     ],
     "language": "python",
     "metadata": {},
     "outputs": [
      {
       "output_type": "stream",
       "stream": "stdout",
       "text": [
        "al doilea caz\n"
       ]
      }
     ],
     "prompt_number": 53
    },
    {
     "cell_type": "heading",
     "level": 4,
     "metadata": {},
     "source": [
      "Operatorii de apartenenta sunt `in` si `not in`."
     ]
    },
    {
     "cell_type": "code",
     "collapsed": false,
     "input": [
      "L=['a', 'b', 'c', '*', '#']\n",
      "if '@'in L:\n",
      "    print 'pot trimite un email'\n",
      "else:\n",
      "    if '$' not in L:\n",
      "        print 'n-am dolari, nu pot trimite scrisoare'  \n",
      "    else:\n",
      "        print 'merg la posta'"
     ],
     "language": "python",
     "metadata": {},
     "outputs": [
      {
       "output_type": "stream",
       "stream": "stdout",
       "text": [
        "n-am dolari, nu pot trimite scrisoare\n"
       ]
      }
     ],
     "prompt_number": 54
    },
    {
     "cell_type": "heading",
     "level": 4,
     "metadata": {},
     "source": [
      "Definirea functiilor in Python"
     ]
    },
    {
     "cell_type": "markdown",
     "metadata": {},
     "source": [
      "Ca in orice limbaj de programare functiile se folosesc pentru a defini cod reutilizabil, dar si pentru a organiza codul.\n",
      "\n",
      "Linia de definitie a unei functii este de forma:\n",
      "\n",
      "`def NumeFunctie(param1, param2, ..., paramN):`\n",
      "\n"
     ]
    },
    {
     "cell_type": "markdown",
     "metadata": {},
     "source": [
      "- `def` este un cuvant rezervat,  care indica definitia unei functii. \n",
      "\n",
      "- numele functiei se alege conform acelorasi reguli ca in `C`.\n",
      "\n",
      "- parametrii `param1, param2, ..., param N` sunt nume si ele definesc tipurile de argumente pe care functia le poate accepta.\n",
      "\n",
      "- linia de definitie se incheie obligatoriu cu `:`\n",
      "\n",
      "- liniile ce constituie corpul functiei sunt  indentate."
     ]
    },
    {
     "cell_type": "markdown",
     "metadata": {},
     "source": [
      "Pentru a ilustra modalitatea de indentare, dam un exemplu  elementar de functie ce calculeaza cel mai mare divizor comun a doua numere:"
     ]
    },
    {
     "cell_type": "code",
     "collapsed": false,
     "input": [
      "def cmmdivc(m,n):\n",
      "    cmmd=1\n",
      "    d=2 # d posibil divizor\n",
      "    while d<=m and d<=n:\n",
      "        if m%d==0 and n%d==0:\n",
      "            cmmd=d\n",
      "        d+=1    \n",
      "    return cmmd\n",
      "\n",
      "#############################\n",
      "# apelam functia:\n",
      "nrdiv=cmmdivc(6,15)\n",
      "print nrdiv\n",
      "        "
     ],
     "language": "python",
     "metadata": {},
     "outputs": [
      {
       "output_type": "stream",
       "stream": "stdout",
       "text": [
        "3\n"
       ]
      }
     ],
     "prompt_number": 55
    },
    {
     "cell_type": "markdown",
     "metadata": {},
     "source": [
      "Indentarea indica in mod evident sub-blocurile din corpul functiei."
     ]
    },
    {
     "cell_type": "markdown",
     "metadata": {},
     "source": [
      "Functiile pot fi privite ca orice alt obiect (float, tuple, etc). Invocand tipul unei functii\n",
      "prin `type(NumeFunctie)` este afisat tipul `function`.\n"
     ]
    },
    {
     "cell_type": "code",
     "collapsed": false,
     "input": [
      "def doarprint():\n",
      "    print  'Exemplu'\n",
      "    return None\n",
      "\n",
      "doarprint()\n",
      "type(doarprint)"
     ],
     "language": "python",
     "metadata": {},
     "outputs": [
      {
       "output_type": "stream",
       "stream": "stdout",
       "text": [
        "Exemplu\n"
       ]
      },
      {
       "metadata": {},
       "output_type": "pyout",
       "prompt_number": 56,
       "text": [
        "function"
       ]
      }
     ],
     "prompt_number": 56
    },
    {
     "cell_type": "markdown",
     "metadata": {},
     "source": [
      "Functia poate returna o valoare numerica sau orice alt obiect: lista, tuple, string, array, etc\n",
      "In exemplul de mai sus functia nu returneaza nimic. Este admis in acest caz sa se scrie simplu doar `return` sau sa nu se insereze `return`.    "
     ]
    },
    {
     "cell_type": "heading",
     "level": 4,
     "metadata": {},
     "source": [
      "Operatii, functii si metode pentru liste"
     ]
    },
    {
     "cell_type": "markdown",
     "metadata": {},
     "source": [
      "Deoarece listele de elemente numerice pot fi convertite in `array-uri`(obiectele de baza in Algebra liniara) prezentam cateva detalii relativ la liste."
     ]
    },
    {
     "cell_type": "markdown",
     "metadata": {},
     "source": [
      "- stergerea elementului din pozitia `i` a listei `L`:\n",
      "    `del L[i]`\n",
      "\n",
      "- Suma a doua liste `L1+L2` are ca efect concatenarea lor;\n",
      "\n",
      "- produsul unei liste cu un numar intreg pozitiv, `n*L`, are ca efect generarea unei liste in care se repeta de   `n` ori elementele listei `L`;\n",
      "\n"
     ]
    },
    {
     "cell_type": "code",
     "collapsed": false,
     "input": [
      "L=[2,3,-1, 5]\n",
      "del L[2]\n",
      "print L"
     ],
     "language": "python",
     "metadata": {},
     "outputs": [
      {
       "output_type": "stream",
       "stream": "stdout",
       "text": [
        "[2, 3, 5]\n"
       ]
      }
     ],
     "prompt_number": 57
    },
    {
     "cell_type": "code",
     "collapsed": false,
     "input": [
      "L1=[2,3,4]\n",
      "L2=[5,6,7]\n",
      "L3=['a', 'b']\n",
      "print L1+L2\n",
      "print L2+L3"
     ],
     "language": "python",
     "metadata": {},
     "outputs": [
      {
       "output_type": "stream",
       "stream": "stdout",
       "text": [
        "[2, 3, 4, 5, 6, 7]\n",
        "[5, 6, 7, 'a', 'b']\n"
       ]
      }
     ],
     "prompt_number": 58
    },
    {
     "cell_type": "code",
     "collapsed": false,
     "input": [
      "L=[1,9]\n",
      "LL=4*L\n",
      "print LL"
     ],
     "language": "python",
     "metadata": {},
     "outputs": [
      {
       "output_type": "stream",
       "stream": "stdout",
       "text": [
        "[1, 9, 1, 9, 1, 9, 1, 9]\n"
       ]
      }
     ],
     "prompt_number": 59
    },
    {
     "cell_type": "markdown",
     "metadata": {},
     "source": [
      "- test de apartenenta a unui element la o lista:"
     ]
    },
    {
     "cell_type": "code",
     "collapsed": false,
     "input": [
      "L=[2,3,3,4]\n",
      "b= 3 in L\n",
      "print b"
     ],
     "language": "python",
     "metadata": {},
     "outputs": [
      {
       "output_type": "stream",
       "stream": "stdout",
       "text": [
        "True\n"
       ]
      }
     ],
     "prompt_number": 60
    },
    {
     "cell_type": "code",
     "collapsed": false,
     "input": [
      "L=[2,4,6,5]\n",
      "if 7 in L:\n",
      "    print 'Lista il contine pe 7'\n",
      "else:\n",
      "    print '7 nu e in lista'\n"
     ],
     "language": "python",
     "metadata": {},
     "outputs": [
      {
       "output_type": "stream",
       "stream": "stdout",
       "text": [
        "7 nu e in lista\n"
       ]
      }
     ],
     "prompt_number": 61
    },
    {
     "cell_type": "markdown",
     "metadata": {},
     "source": [
      "- Iterarea unei liste:"
     ]
    },
    {
     "cell_type": "code",
     "collapsed": false,
     "input": [
      "L=[5,7,9,1,3]\n",
      "for elem in L:\n",
      "    print elem\n",
      "    "
     ],
     "language": "python",
     "metadata": {},
     "outputs": [
      {
       "output_type": "stream",
       "stream": "stdout",
       "text": [
        "5\n",
        "7\n",
        "9\n",
        "1\n",
        "3\n"
       ]
      }
     ],
     "prompt_number": 62
    },
    {
     "cell_type": "markdown",
     "metadata": {},
     "source": [
      "Remarcam ca in iterare `elem` parcurge elementele listei, deci acest `for` este diferit\n",
      "de bucla `for` in care contorul parcurge multimea de indici ale elementelor listei:\n",
      "    "
     ]
    },
    {
     "cell_type": "code",
     "collapsed": false,
     "input": [
      "for i in range(len(L)):\n",
      "    print L[i]"
     ],
     "language": "python",
     "metadata": {},
     "outputs": [
      {
       "output_type": "stream",
       "stream": "stdout",
       "text": [
        "5\n",
        "7\n",
        "9\n",
        "1\n",
        "3\n"
       ]
      }
     ],
     "prompt_number": 63
    },
    {
     "cell_type": "markdown",
     "metadata": {},
     "source": [
      "- Indexare cu indici negativi"
     ]
    },
    {
     "cell_type": "markdown",
     "metadata": {},
     "source": [
      "Indexand elementele unei liste uzual,  `[L[0], L[1], ..., L[N-1]]`, se poate accesa elementul din pozitia `i`, prin `L[i]`, `i=0,1, ...N-1`, asa cum am precizat deja.\n",
      "\n",
      "Lista mai poate fi interpretata  ca avand elementele `L[N-N], L[N-(N-1)], ...L[N-1]`. In aceasta interpretare un element arbitrar, `L[N-i]`, se poate accesa si   ca `L[-i]`, `i=1, 2, ..., N`:\n"
     ]
    },
    {
     "cell_type": "code",
     "collapsed": false,
     "input": [
      "L=[2,4,6,8,10]\n",
      "N=len(L)\n",
      "\n",
      "print L[4]\n",
      "print L[N-3], L[-3]"
     ],
     "language": "python",
     "metadata": {},
     "outputs": [
      {
       "output_type": "stream",
       "stream": "stdout",
       "text": [
        "10\n",
        "6 6\n"
       ]
      }
     ],
     "prompt_number": 64
    },
    {
     "cell_type": "heading",
     "level": 4,
     "metadata": {},
     "source": [
      "Functii ce actioneaza asupra listelor"
     ]
    },
    {
     "cell_type": "markdown",
     "metadata": {},
     "source": [
      "Functiile `min(L)`, `max(L)` returneaza elementul din lista cu cea mai mica valoare, respectiv cea mai mare valoare."
     ]
    },
    {
     "cell_type": "code",
     "collapsed": false,
     "input": [
      "L=[3, -5, 2,1,7, 4, 9, 2]\n",
      "print min(L), max(L)"
     ],
     "language": "python",
     "metadata": {},
     "outputs": [
      {
       "output_type": "stream",
       "stream": "stdout",
       "text": [
        "-5 9\n"
       ]
      }
     ],
     "prompt_number": 65
    },
    {
     "cell_type": "markdown",
     "metadata": {},
     "source": [
      "`list(NumeTuple)` converteste un tuple in lista:"
     ]
    },
    {
     "cell_type": "code",
     "collapsed": false,
     "input": [
      "t=(3,4)# acesta este un tuple\n",
      "lt=list(t)\n",
      "print t, lt"
     ],
     "language": "python",
     "metadata": {},
     "outputs": [
      {
       "output_type": "stream",
       "stream": "stdout",
       "text": [
        "(3, 4) [3, 4]\n"
       ]
      }
     ],
     "prompt_number": 66
    },
    {
     "cell_type": "heading",
     "level": 4,
     "metadata": {},
     "source": [
      "Metode "
     ]
    },
    {
     "cell_type": "markdown",
     "metadata": {},
     "source": [
      "Functiile  sunt secvente de cod, apelate prin `NumeFunctie(argumente)`.  Metodele sunt functii asociate unui obiect, in acest caz unei liste. \n",
      "\n",
      "O metoda pentru liste se apeleaza astfel:\n",
      "`NumeLista.NumeMetoda(argumente)`"
     ]
    },
    {
     "cell_type": "code",
     "collapsed": false,
     "input": [
      "#L.append(elem) adauga elementul elem  la lista\n",
      "\n",
      "L=[4,5,2,7]\n",
      "L.append(2)\n",
      "print L\n",
      "\n",
      "# nr=L.count(elem) este numarul de cate ori elementul elem apare in lista\n",
      "L=[0, 1, 2, 3 ,4, 5, 6,5]\n",
      "nr=L.count(5)\n",
      "print '5 apare de ', nr, 'ori'"
     ],
     "language": "python",
     "metadata": {},
     "outputs": [
      {
       "output_type": "stream",
       "stream": "stdout",
       "text": [
        "[4, 5, 2, 7, 2]\n",
        "5 apare de  2 ori\n"
       ]
      }
     ],
     "prompt_number": 67
    },
    {
     "cell_type": "code",
     "collapsed": false,
     "input": [
      "# L.index(elem)indica primul indice la care apare elementul elem in lista\n",
      "L=[-2, 1, 7, 3, 7]\n",
      "pind=L.index(7)\n",
      "print pind\n"
     ],
     "language": "python",
     "metadata": {},
     "outputs": [
      {
       "output_type": "stream",
       "stream": "stdout",
       "text": [
        "2\n"
       ]
      }
     ],
     "prompt_number": 68
    },
    {
     "cell_type": "code",
     "collapsed": false,
     "input": [
      "print L\n",
      "# L.insert(i,elem) insereaza elementul elem in pozitia L[i] \n",
      "#si deplaseaza elementele din dreapta cu o pozitie\n",
      "L.insert(1, 10)\n",
      "print L"
     ],
     "language": "python",
     "metadata": {},
     "outputs": [
      {
       "output_type": "stream",
       "stream": "stdout",
       "text": [
        "[-2, 1, 7, 3, 7]\n",
        "[-2, 10, 1, 7, 3, 7]\n"
       ]
      }
     ],
     "prompt_number": 69
    },
    {
     "cell_type": "code",
     "collapsed": false,
     "input": [
      "L=[1,2,5, 3,4,6]\n",
      "#L.remove(elem) sterge elementul elem din lista\n",
      "L.remove(5)\n",
      "print L"
     ],
     "language": "python",
     "metadata": {},
     "outputs": [
      {
       "output_type": "stream",
       "stream": "stdout",
       "text": [
        "[1, 2, 3, 4, 6]\n"
       ]
      }
     ],
     "prompt_number": 70
    },
    {
     "cell_type": "markdown",
     "metadata": {},
     "source": [
      "Daca insa un element apare de mai multe ori in lista atunci `L.remove(elem)` sterge doar elementul din pozitia cu cel mai mic indice."
     ]
    },
    {
     "cell_type": "code",
     "collapsed": false,
     "input": [
      "L=[1,2,3,4,5,4,7]\n",
      "L.remove(4)\n",
      "print L"
     ],
     "language": "python",
     "metadata": {},
     "outputs": [
      {
       "output_type": "stream",
       "stream": "stdout",
       "text": [
        "[1, 2, 3, 5, 4, 7]\n"
       ]
      }
     ],
     "prompt_number": 71
    },
    {
     "cell_type": "code",
     "collapsed": false,
     "input": [
      "#L.sort() sorteaza elementele in ordine crescatoare\n",
      "Lista=[2,5,3,1,4,6]\n",
      "\n",
      "Lista.sort()\n",
      "print Lista"
     ],
     "language": "python",
     "metadata": {},
     "outputs": [
      {
       "output_type": "stream",
       "stream": "stdout",
       "text": [
        "[1, 2, 3, 4, 5, 6]\n"
       ]
      }
     ],
     "prompt_number": 72
    },
    {
     "cell_type": "code",
     "collapsed": false,
     "input": [
      "#L.reverse()  inverseaza pozitia elementelor in lista de lungime N: \n",
      "#elementul L[0] trece in pozitia N-1, L[1] in N-2, etc\n",
      "\n",
      "L=[4, -2, 6, -3, 8,-4]\n",
      "L.reverse()\n",
      "print L"
     ],
     "language": "python",
     "metadata": {},
     "outputs": [
      {
       "output_type": "stream",
       "stream": "stdout",
       "text": [
        "[-4, 8, -3, 6, -2, 4]\n"
       ]
      }
     ],
     "prompt_number": 73
    },
    {
     "cell_type": "markdown",
     "metadata": {},
     "source": [
      "**Generarea unei liste prin comprehensiune**"
     ]
    },
    {
     "cell_type": "markdown",
     "metadata": {},
     "source": [
      "In Python exista o modalitate de a crea liste, numita  *list comprehension*. \n",
      "Aceasta modalitate este foarte naturala si simpla, inspirata de modul de definire a unor multimi finite in matematica\n",
      "([Guido Van Rossum](http://en.wikipedia.org/wiki/Guido_van_Rossum), creatorul lui Python are un background de matematician),\n",
      "si anume: $S=\\{ 3i-1\\:|\\: i=\\overline{100,500}\\}$. \n",
      "\n",
      "Lista care are aceleasi elemente ca $S$ se descrie prin comprehensiune astfel:"
     ]
    },
    {
     "cell_type": "code",
     "collapsed": false,
     "input": [
      "L=[3*i-1 for i in range(100,500)]\n",
      "print L[:5]# printam doar primele 5 elemente\n",
      "\n",
      "LL=[elem+2 for elem in L]\n",
      "print LL[:5]"
     ],
     "language": "python",
     "metadata": {},
     "outputs": [
      {
       "output_type": "stream",
       "stream": "stdout",
       "text": [
        "[299, 302, 305, 308, 311]\n",
        "[301, 304, 307, 310, 313]\n"
       ]
      }
     ],
     "prompt_number": 74
    },
    {
     "cell_type": "markdown",
     "metadata": {},
     "source": [
      "Sintaxa de baza pentru generarea unei liste prin comprehensiune este deci:\n",
      "\n",
      "`L=[expresie for indice in range(m,n)]`\n",
      "\n",
      "sau\n",
      "\n",
      "`LL=[expresie for element in li]`\n",
      "\n",
      "unde `li` este o lista definita in prealabil.\n",
      "\n",
      "In primul caz `expresie` este o functie de `indice`, iar in al doilea o functie de `element`.\n",
      "    "
     ]
    },
    {
     "cell_type": "markdown",
     "metadata": {},
     "source": [
      "E. Petrisor, Univ Politehnica Timisoara"
     ]
    },
    {
     "cell_type": "code",
     "collapsed": false,
     "input": [
      "from IPython.core.display import HTML\n",
      "def  css_styling():\n",
      "    styles = open(\"./styles/custom.css\", \"r\").read()\n",
      "    return HTML(styles)\n",
      "css_styling()"
     ],
     "language": "python",
     "metadata": {},
     "outputs": [
      {
       "html": [
        "<style>\n",
        "    @font-face {\n",
        "        font-family: \"Computer Modern\";\n",
        "        src: url('http://mirrors.ctan.org/fonts/cm-unicode/fonts/otf/cmunss.otf');\n",
        "    }\n",
        "    div.cell{\n",
        "        width:800px;\n",
        "        margin-left:16% !important;\n",
        "        margin-right:auto;\n",
        "    }\n",
        "    h1 {\n",
        "        font-family: Helvetica, serif;\n",
        "    }\n",
        "    h4{\n",
        "        margin-top:12px;\n",
        "        margin-bottom: 3px;\n",
        "       }\n",
        "    div.text_cell_render{\n",
        "        font-family: Computer Modern, \"Helvetica Neue\", Arial, Helvetica, Geneva, sans-serif;\n",
        "        line-height: 145%;\n",
        "        font-size: 130%;\n",
        "        width:800px;\n",
        "        margin-left:auto;\n",
        "        margin-right:auto;\n",
        "    }\n",
        "    .CodeMirror{\n",
        "            font-family: \"Source Code Pro\", source-code-pro,Consolas, monospace;\n",
        "    }\n",
        "    .prompt{\n",
        "        display: None;\n",
        "    }\n",
        "    .text_cell_render h5 {\n",
        "        font-weight: 300;\n",
        "        font-size: 22pt;\n",
        "        color: #4057A1;\n",
        "        font-style: italic;\n",
        "        margin-bottom: .5em;\n",
        "        margin-top: 0.5em;\n",
        "        display: block;\n",
        "    }\n",
        "    \n",
        "    .warning{\n",
        "        color: rgb( 240, 20, 20 )\n",
        "        }  \n",
        "</style>\n",
        "<script>\n",
        "    MathJax.Hub.Config({\n",
        "                        TeX: {\n",
        "                           extensions: [\"AMSmath.js\"]\n",
        "                           },\n",
        "                tex2jax: {\n",
        "                    inlineMath: [ ['$','$'], [\"\\\\(\",\"\\\\)\"] ],\n",
        "                    displayMath: [ ['$$','$$'], [\"\\\\[\",\"\\\\]\"] ]\n",
        "                },\n",
        "                displayAlign: 'center', // Change this to 'center' to center equations.\n",
        "                \"HTML-CSS\": {\n",
        "                    styles: {'.MathJax_Display': {\"margin\": 4}}\n",
        "                }\n",
        "        });\n",
        "</script>\n"
       ],
       "metadata": {},
       "output_type": "pyout",
       "prompt_number": 75,
       "text": [
        "<IPython.core.display.HTML at 0x5b69cc0>"
       ]
      }
     ],
     "prompt_number": 75
    },
    {
     "cell_type": "code",
     "collapsed": false,
     "input": [],
     "language": "python",
     "metadata": {},
     "outputs": []
    }
   ],
   "metadata": {}
  }
 ]
}